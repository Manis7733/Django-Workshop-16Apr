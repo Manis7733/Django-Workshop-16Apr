{
 "cells": [
  {
   "cell_type": "code",
   "execution_count": 2,
   "id": "2f3f3b74",
   "metadata": {},
   "outputs": [
    {
     "name": "stdout",
     "output_type": "stream",
     "text": [
      "Collecting pymongo\n",
      "  Downloading pymongo-4.3.3-cp39-cp39-win_amd64.whl (382 kB)\n",
      "     -------------------------------------- 382.5/382.5 kB 2.2 MB/s eta 0:00:00\n",
      "Collecting dnspython<3.0.0,>=1.16.0\n",
      "  Using cached dnspython-2.3.0-py3-none-any.whl (283 kB)\n",
      "Installing collected packages: dnspython, pymongo\n",
      "Successfully installed dnspython-2.3.0 pymongo-4.3.3\n",
      "Note: you may need to restart the kernel to use updated packages.\n"
     ]
    }
   ],
   "source": [
    "pip install pymongo"
   ]
  },
  {
   "cell_type": "code",
   "execution_count": 1,
   "id": "928745f8",
   "metadata": {},
   "outputs": [],
   "source": [
    "import pymongo"
   ]
  },
  {
   "cell_type": "code",
   "execution_count": 2,
   "id": "ce5f9fef",
   "metadata": {},
   "outputs": [],
   "source": [
    "client = pymongo.MongoClient(\"mongodb://localhost:27017/\")"
   ]
  },
  {
   "cell_type": "code",
   "execution_count": 3,
   "id": "484e1742",
   "metadata": {},
   "outputs": [
    {
     "data": {
      "text/plain": [
       "MongoClient(host=['localhost:27017'], document_class=dict, tz_aware=False, connect=True)"
      ]
     },
     "execution_count": 3,
     "metadata": {},
     "output_type": "execute_result"
    }
   ],
   "source": [
    "client"
   ]
  },
  {
   "cell_type": "code",
   "execution_count": 4,
   "id": "7c2bf56b",
   "metadata": {},
   "outputs": [],
   "source": [
    "db = client.get_database(\"TestDatabase\")"
   ]
  },
  {
   "cell_type": "code",
   "execution_count": 5,
   "id": "2ee0d47e",
   "metadata": {},
   "outputs": [
    {
     "data": {
      "text/plain": [
       "Database(MongoClient(host=['localhost:27017'], document_class=dict, tz_aware=False, connect=True), 'TestDatabase')"
      ]
     },
     "execution_count": 5,
     "metadata": {},
     "output_type": "execute_result"
    }
   ],
   "source": [
    "db"
   ]
  },
  {
   "cell_type": "code",
   "execution_count": 6,
   "id": "ecd57ff3",
   "metadata": {},
   "outputs": [],
   "source": [
    "db = client[\"TestDatabase\"]"
   ]
  },
  {
   "cell_type": "code",
   "execution_count": 7,
   "id": "d4dcf47a",
   "metadata": {},
   "outputs": [
    {
     "data": {
      "text/plain": [
       "Database(MongoClient(host=['localhost:27017'], document_class=dict, tz_aware=False, connect=True), 'TestDatabase')"
      ]
     },
     "execution_count": 7,
     "metadata": {},
     "output_type": "execute_result"
    }
   ],
   "source": [
    "db"
   ]
  },
  {
   "cell_type": "code",
   "execution_count": 8,
   "id": "5870147f",
   "metadata": {},
   "outputs": [],
   "source": [
    "col = db[\"TestCollection\"]"
   ]
  },
  {
   "cell_type": "code",
   "execution_count": 9,
   "id": "f04ee15c",
   "metadata": {},
   "outputs": [
    {
     "data": {
      "text/plain": [
       "Collection(Database(MongoClient(host=['localhost:27017'], document_class=dict, tz_aware=False, connect=True), 'TestDatabase'), 'TestCollection')"
      ]
     },
     "execution_count": 9,
     "metadata": {},
     "output_type": "execute_result"
    }
   ],
   "source": [
    "col"
   ]
  },
  {
   "cell_type": "code",
   "execution_count": 10,
   "id": "bc323fa7",
   "metadata": {},
   "outputs": [
    {
     "data": {
      "text/plain": [
       "['TestDatabase', 'admin', 'config', 'local']"
      ]
     },
     "execution_count": 10,
     "metadata": {},
     "output_type": "execute_result"
    }
   ],
   "source": [
    "client.list_database_names()"
   ]
  },
  {
   "cell_type": "code",
   "execution_count": 12,
   "id": "dc32a4dd",
   "metadata": {},
   "outputs": [
    {
     "name": "stdout",
     "output_type": "stream",
     "text": [
      "Found\n"
     ]
    }
   ],
   "source": [
    "for x in client.list_database_names():\n",
    "    if \"TestDatabase\" == x:\n",
    "        print(\"Found\")\n",
    "        break"
   ]
  },
  {
   "cell_type": "code",
   "execution_count": 13,
   "id": "45a529ae",
   "metadata": {},
   "outputs": [],
   "source": [
    "new_db = client[\"NewDatabase\"]"
   ]
  },
  {
   "cell_type": "code",
   "execution_count": 14,
   "id": "60b17df1",
   "metadata": {},
   "outputs": [
    {
     "data": {
      "text/plain": [
       "Database(MongoClient(host=['localhost:27017'], document_class=dict, tz_aware=False, connect=True), 'NewDatabase')"
      ]
     },
     "execution_count": 14,
     "metadata": {},
     "output_type": "execute_result"
    }
   ],
   "source": [
    "new_db"
   ]
  },
  {
   "cell_type": "code",
   "execution_count": 15,
   "id": "d15c6258",
   "metadata": {},
   "outputs": [],
   "source": [
    "ncol = new_db[\"NewCollection\"]"
   ]
  },
  {
   "cell_type": "code",
   "execution_count": 16,
   "id": "8448fcad",
   "metadata": {},
   "outputs": [
    {
     "data": {
      "text/plain": [
       "Collection(Database(MongoClient(host=['localhost:27017'], document_class=dict, tz_aware=False, connect=True), 'NewDatabase'), 'NewCollection')"
      ]
     },
     "execution_count": 16,
     "metadata": {},
     "output_type": "execute_result"
    }
   ],
   "source": [
    "ncol"
   ]
  },
  {
   "cell_type": "code",
   "execution_count": 17,
   "id": "f7f7d1f3",
   "metadata": {},
   "outputs": [
    {
     "data": {
      "text/plain": [
       "<pymongo.results.InsertOneResult at 0x1da17841c10>"
      ]
     },
     "execution_count": 17,
     "metadata": {},
     "output_type": "execute_result"
    }
   ],
   "source": [
    "ncol.insert_one({\n",
    "    \"key\":\"value\"\n",
    "})"
   ]
  },
  {
   "cell_type": "code",
   "execution_count": 18,
   "id": "bdc5dcd7",
   "metadata": {},
   "outputs": [
    {
     "data": {
      "text/plain": [
       "Database(MongoClient(host=['localhost:27017'], document_class=dict, tz_aware=False, connect=True), 'TestDatabase')"
      ]
     },
     "execution_count": 18,
     "metadata": {},
     "output_type": "execute_result"
    }
   ],
   "source": [
    "db"
   ]
  },
  {
   "cell_type": "code",
   "execution_count": 19,
   "id": "8cbf5632",
   "metadata": {},
   "outputs": [
    {
     "data": {
      "text/plain": [
       "Collection(Database(MongoClient(host=['localhost:27017'], document_class=dict, tz_aware=False, connect=True), 'TestDatabase'), 'TestCollection')"
      ]
     },
     "execution_count": 19,
     "metadata": {},
     "output_type": "execute_result"
    }
   ],
   "source": [
    "col"
   ]
  },
  {
   "cell_type": "code",
   "execution_count": 20,
   "id": "498590e1",
   "metadata": {},
   "outputs": [],
   "source": [
    "data = {\n",
    "    \"name\":\"ManishParate\",\n",
    "    \"Task\":\"Learn Django\"\n",
    "}"
   ]
  },
  {
   "cell_type": "code",
   "execution_count": 21,
   "id": "5a3c9b68",
   "metadata": {},
   "outputs": [],
   "source": [
    "saved = col.insert_one(data)"
   ]
  },
  {
   "cell_type": "code",
   "execution_count": 22,
   "id": "5ce8317e",
   "metadata": {},
   "outputs": [
    {
     "data": {
      "text/plain": [
       "<pymongo.results.InsertOneResult at 0x1da18513970>"
      ]
     },
     "execution_count": 22,
     "metadata": {},
     "output_type": "execute_result"
    }
   ],
   "source": [
    "saved"
   ]
  },
  {
   "cell_type": "code",
   "execution_count": 23,
   "id": "e8633d82",
   "metadata": {},
   "outputs": [
    {
     "data": {
      "text/plain": [
       "ObjectId('644100705f358a075462fb8a')"
      ]
     },
     "execution_count": 23,
     "metadata": {},
     "output_type": "execute_result"
    }
   ],
   "source": [
    "saved.inserted_id"
   ]
  },
  {
   "cell_type": "markdown",
   "id": "d8763a91",
   "metadata": {},
   "source": [
    "# Insert Multiple Document"
   ]
  },
  {
   "cell_type": "code",
   "execution_count": 27,
   "id": "962fe833",
   "metadata": {},
   "outputs": [],
   "source": [
    "data = [\n",
    "    {\"name\":\"mohan1\",\"task\":\"Learn Django Basics\"},\n",
    "    {\"name\":\"sohan1\", \"task\":\"Learn Django Advance\"},\n",
    "    {\"name\":\"Ram1\", \"task\":\"Learn Python\"}\n",
    "]"
   ]
  },
  {
   "cell_type": "code",
   "execution_count": 28,
   "id": "c53727f7",
   "metadata": {},
   "outputs": [],
   "source": [
    "saved = col.insert_many(data)"
   ]
  },
  {
   "cell_type": "code",
   "execution_count": 29,
   "id": "72d8f198",
   "metadata": {},
   "outputs": [
    {
     "data": {
      "text/plain": [
       "[ObjectId('6441027b5f358a075462fb8e'),\n",
       " ObjectId('6441027b5f358a075462fb8f'),\n",
       " ObjectId('6441027b5f358a075462fb90')]"
      ]
     },
     "execution_count": 29,
     "metadata": {},
     "output_type": "execute_result"
    }
   ],
   "source": [
    "saved.inserted_ids"
   ]
  },
  {
   "cell_type": "markdown",
   "id": "1707cf75",
   "metadata": {},
   "source": [
    "# Insert Multiple Documents with Custom IDs"
   ]
  },
  {
   "cell_type": "code",
   "execution_count": 30,
   "id": "4abfb25a",
   "metadata": {},
   "outputs": [],
   "source": [
    "data = [\n",
    "    {\"_id\":1, \"name\":\"mohan1\",\"task\":\"Learn Django Basics\"},\n",
    "    {\"_id\":2, \"name\":\"sohan1\", \"task\":\"Learn Django Advance\"},\n",
    "    {\"_id\":3, \"name\":\"Ram1\", \"task\":\"Learn Python\"}\n",
    "]"
   ]
  },
  {
   "cell_type": "code",
   "execution_count": 31,
   "id": "d472526b",
   "metadata": {},
   "outputs": [
    {
     "data": {
      "text/plain": [
       "<pymongo.results.InsertManyResult at 0x1da182ca7f0>"
      ]
     },
     "execution_count": 31,
     "metadata": {},
     "output_type": "execute_result"
    }
   ],
   "source": [
    "col.insert_many(data)"
   ]
  },
  {
   "cell_type": "code",
   "execution_count": 32,
   "id": "1c618d71",
   "metadata": {},
   "outputs": [
    {
     "data": {
      "text/plain": [
       "Collection(Database(MongoClient(host=['localhost:27017'], document_class=dict, tz_aware=False, connect=True), 'TestDatabase'), 'TestCollection')"
      ]
     },
     "execution_count": 32,
     "metadata": {},
     "output_type": "execute_result"
    }
   ],
   "source": [
    "col"
   ]
  },
  {
   "cell_type": "code",
   "execution_count": 33,
   "id": "bf8f228f",
   "metadata": {},
   "outputs": [
    {
     "data": {
      "text/plain": [
       "Database(MongoClient(host=['localhost:27017'], document_class=dict, tz_aware=False, connect=True), 'TestDatabase')"
      ]
     },
     "execution_count": 33,
     "metadata": {},
     "output_type": "execute_result"
    }
   ],
   "source": [
    "db"
   ]
  },
  {
   "cell_type": "code",
   "execution_count": 34,
   "id": "811d0df6",
   "metadata": {},
   "outputs": [],
   "source": [
    "data = col.find_one()"
   ]
  },
  {
   "cell_type": "code",
   "execution_count": 35,
   "id": "615f5051",
   "metadata": {},
   "outputs": [
    {
     "data": {
      "text/plain": [
       "{'_id': ObjectId('644100705f358a075462fb8a'),\n",
       " 'name': 'ManishParate',\n",
       " 'Task': 'Learn Django'}"
      ]
     },
     "execution_count": 35,
     "metadata": {},
     "output_type": "execute_result"
    }
   ],
   "source": [
    "data"
   ]
  },
  {
   "cell_type": "code",
   "execution_count": 37,
   "id": "2c2ee4ab",
   "metadata": {},
   "outputs": [],
   "source": [
    "data = col.find()"
   ]
  },
  {
   "cell_type": "code",
   "execution_count": 38,
   "id": "6fab6821",
   "metadata": {},
   "outputs": [
    {
     "data": {
      "text/plain": [
       "<pymongo.cursor.Cursor at 0x1da182e82e0>"
      ]
     },
     "execution_count": 38,
     "metadata": {},
     "output_type": "execute_result"
    }
   ],
   "source": [
    "data"
   ]
  },
  {
   "cell_type": "code",
   "execution_count": 39,
   "id": "18fafe46",
   "metadata": {},
   "outputs": [
    {
     "name": "stdout",
     "output_type": "stream",
     "text": [
      "{'_id': ObjectId('644100705f358a075462fb8a'), 'name': 'ManishParate', 'Task': 'Learn Django'}\n",
      "{'_id': ObjectId('644102265f358a075462fb8b'), 'name': 'mohan', 'task': 'Learn Django Basics'}\n",
      "{'_id': ObjectId('644102265f358a075462fb8c'), 'name': 'sohan', 'task': 'Learn Django Advance'}\n",
      "{'_id': ObjectId('644102265f358a075462fb8d'), 'name': 'Ram', 'task': 'Learn Python'}\n",
      "{'_id': ObjectId('6441027b5f358a075462fb8e'), 'name': 'mohan1', 'task': 'Learn Django Basics'}\n",
      "{'_id': ObjectId('6441027b5f358a075462fb8f'), 'name': 'sohan1', 'task': 'Learn Django Advance'}\n",
      "{'_id': ObjectId('6441027b5f358a075462fb90'), 'name': 'Ram1', 'task': 'Learn Python'}\n",
      "{'_id': 1, 'name': 'mohan1', 'task': 'Learn Django Basics'}\n",
      "{'_id': 2, 'name': 'sohan1', 'task': 'Learn Django Advance'}\n",
      "{'_id': 3, 'name': 'Ram1', 'task': 'Learn Python'}\n"
     ]
    }
   ],
   "source": [
    "for i in data:\n",
    "    print(i)"
   ]
  },
  {
   "cell_type": "code",
   "execution_count": 44,
   "id": "0578695a",
   "metadata": {},
   "outputs": [],
   "source": [
    "query = {\n",
    "    \"name\":\"mohan\"\n",
    "}"
   ]
  },
  {
   "cell_type": "code",
   "execution_count": 45,
   "id": "eb598ecb",
   "metadata": {},
   "outputs": [],
   "source": [
    "data = col.find(query)"
   ]
  },
  {
   "cell_type": "code",
   "execution_count": 46,
   "id": "e65db61c",
   "metadata": {},
   "outputs": [
    {
     "data": {
      "text/plain": [
       "<pymongo.cursor.Cursor at 0x1da1830bb80>"
      ]
     },
     "execution_count": 46,
     "metadata": {},
     "output_type": "execute_result"
    }
   ],
   "source": [
    "data"
   ]
  },
  {
   "cell_type": "code",
   "execution_count": 47,
   "id": "3e5a151b",
   "metadata": {},
   "outputs": [
    {
     "name": "stdout",
     "output_type": "stream",
     "text": [
      "{'_id': ObjectId('644102265f358a075462fb8b'), 'name': 'mohan', 'task': 'Learn Django Basics'}\n"
     ]
    }
   ],
   "source": [
    "for i in data:\n",
    "    print(i)"
   ]
  },
  {
   "cell_type": "code",
   "execution_count": 48,
   "id": "2e9d5eaf",
   "metadata": {},
   "outputs": [],
   "source": [
    "data = col.find(query,{\n",
    "    \"_id\":0, \"name\": 0\n",
    "})"
   ]
  },
  {
   "cell_type": "code",
   "execution_count": 49,
   "id": "e45cd567",
   "metadata": {},
   "outputs": [
    {
     "name": "stdout",
     "output_type": "stream",
     "text": [
      "{'task': 'Learn Django Basics'}\n"
     ]
    }
   ],
   "source": [
    "for i in data:\n",
    "    print(i)"
   ]
  },
  {
   "cell_type": "code",
   "execution_count": 50,
   "id": "54cd249e",
   "metadata": {},
   "outputs": [
    {
     "data": {
      "text/plain": [
       "<pymongo.cursor.Cursor at 0x1da1830ba30>"
      ]
     },
     "execution_count": 50,
     "metadata": {},
     "output_type": "execute_result"
    }
   ],
   "source": [
    "col.find()"
   ]
  },
  {
   "cell_type": "code",
   "execution_count": 51,
   "id": "920821f6",
   "metadata": {},
   "outputs": [
    {
     "name": "stdout",
     "output_type": "stream",
     "text": [
      "{'_id': ObjectId('644100705f358a075462fb8a'), 'name': 'ManishParate', 'Task': 'Learn Django'}\n",
      "{'_id': ObjectId('644102265f358a075462fb8b'), 'name': 'mohan', 'task': 'Learn Django Basics'}\n",
      "{'_id': ObjectId('644102265f358a075462fb8c'), 'name': 'sohan', 'task': 'Learn Django Advance'}\n",
      "{'_id': ObjectId('644102265f358a075462fb8d'), 'name': 'Ram', 'task': 'Learn Python'}\n",
      "{'_id': ObjectId('6441027b5f358a075462fb8e'), 'name': 'mohan1', 'task': 'Learn Django Basics'}\n",
      "{'_id': ObjectId('6441027b5f358a075462fb8f'), 'name': 'sohan1', 'task': 'Learn Django Advance'}\n",
      "{'_id': ObjectId('6441027b5f358a075462fb90'), 'name': 'Ram1', 'task': 'Learn Python'}\n",
      "{'_id': 1, 'name': 'mohan1', 'task': 'Learn Django Basics'}\n",
      "{'_id': 2, 'name': 'sohan1', 'task': 'Learn Django Advance'}\n",
      "{'_id': 3, 'name': 'Ram1', 'task': 'Learn Python'}\n"
     ]
    }
   ],
   "source": [
    "for i in col.find():\n",
    "    print(i)"
   ]
  },
  {
   "cell_type": "code",
   "execution_count": 52,
   "id": "a1800006",
   "metadata": {},
   "outputs": [
    {
     "data": {
      "text/plain": [
       "<pymongo.cursor.Cursor at 0x1da1830bd90>"
      ]
     },
     "execution_count": 52,
     "metadata": {},
     "output_type": "execute_result"
    }
   ],
   "source": [
    "col.find().sort(\"name\")"
   ]
  },
  {
   "cell_type": "code",
   "execution_count": 53,
   "id": "604df632",
   "metadata": {},
   "outputs": [
    {
     "name": "stdout",
     "output_type": "stream",
     "text": [
      "{'_id': ObjectId('644100705f358a075462fb8a'), 'name': 'ManishParate', 'Task': 'Learn Django'}\n",
      "{'_id': ObjectId('644102265f358a075462fb8d'), 'name': 'Ram', 'task': 'Learn Python'}\n",
      "{'_id': ObjectId('6441027b5f358a075462fb90'), 'name': 'Ram1', 'task': 'Learn Python'}\n",
      "{'_id': 3, 'name': 'Ram1', 'task': 'Learn Python'}\n",
      "{'_id': ObjectId('644102265f358a075462fb8b'), 'name': 'mohan', 'task': 'Learn Django Basics'}\n",
      "{'_id': ObjectId('6441027b5f358a075462fb8e'), 'name': 'mohan1', 'task': 'Learn Django Basics'}\n",
      "{'_id': 1, 'name': 'mohan1', 'task': 'Learn Django Basics'}\n",
      "{'_id': ObjectId('644102265f358a075462fb8c'), 'name': 'sohan', 'task': 'Learn Django Advance'}\n",
      "{'_id': ObjectId('6441027b5f358a075462fb8f'), 'name': 'sohan1', 'task': 'Learn Django Advance'}\n",
      "{'_id': 2, 'name': 'sohan1', 'task': 'Learn Django Advance'}\n"
     ]
    }
   ],
   "source": [
    "for i in col.find().sort(\"name\"):\n",
    "    print(i)"
   ]
  },
  {
   "cell_type": "code",
   "execution_count": 54,
   "id": "c7b25c79",
   "metadata": {},
   "outputs": [
    {
     "name": "stdout",
     "output_type": "stream",
     "text": [
      "{'_id': ObjectId('644100705f358a075462fb8a'), 'name': 'ManishParate', 'Task': 'Learn Django'}\n",
      "{'_id': ObjectId('644102265f358a075462fb8d'), 'name': 'Ram', 'task': 'Learn Python'}\n",
      "{'_id': ObjectId('6441027b5f358a075462fb90'), 'name': 'Ram1', 'task': 'Learn Python'}\n",
      "{'_id': 3, 'name': 'Ram1', 'task': 'Learn Python'}\n",
      "{'_id': ObjectId('644102265f358a075462fb8b'), 'name': 'mohan', 'task': 'Learn Django Basics'}\n",
      "{'_id': ObjectId('6441027b5f358a075462fb8e'), 'name': 'mohan1', 'task': 'Learn Django Basics'}\n",
      "{'_id': 1, 'name': 'mohan1', 'task': 'Learn Django Basics'}\n",
      "{'_id': ObjectId('644102265f358a075462fb8c'), 'name': 'sohan', 'task': 'Learn Django Advance'}\n",
      "{'_id': ObjectId('6441027b5f358a075462fb8f'), 'name': 'sohan1', 'task': 'Learn Django Advance'}\n",
      "{'_id': 2, 'name': 'sohan1', 'task': 'Learn Django Advance'}\n"
     ]
    }
   ],
   "source": [
    "# Ascending Order\n",
    "for i in col.find().sort(\"name\",1):\n",
    "    print(i)"
   ]
  },
  {
   "cell_type": "code",
   "execution_count": 55,
   "id": "610d5ce3",
   "metadata": {},
   "outputs": [
    {
     "name": "stdout",
     "output_type": "stream",
     "text": [
      "{'_id': ObjectId('6441027b5f358a075462fb8f'), 'name': 'sohan1', 'task': 'Learn Django Advance'}\n",
      "{'_id': 2, 'name': 'sohan1', 'task': 'Learn Django Advance'}\n",
      "{'_id': ObjectId('644102265f358a075462fb8c'), 'name': 'sohan', 'task': 'Learn Django Advance'}\n",
      "{'_id': ObjectId('6441027b5f358a075462fb8e'), 'name': 'mohan1', 'task': 'Learn Django Basics'}\n",
      "{'_id': 1, 'name': 'mohan1', 'task': 'Learn Django Basics'}\n",
      "{'_id': ObjectId('644102265f358a075462fb8b'), 'name': 'mohan', 'task': 'Learn Django Basics'}\n",
      "{'_id': ObjectId('6441027b5f358a075462fb90'), 'name': 'Ram1', 'task': 'Learn Python'}\n",
      "{'_id': 3, 'name': 'Ram1', 'task': 'Learn Python'}\n",
      "{'_id': ObjectId('644102265f358a075462fb8d'), 'name': 'Ram', 'task': 'Learn Python'}\n",
      "{'_id': ObjectId('644100705f358a075462fb8a'), 'name': 'ManishParate', 'Task': 'Learn Django'}\n"
     ]
    }
   ],
   "source": [
    "#Descending Order\n",
    "for i in col.find().sort(\"name\",-1):\n",
    "    print(i)"
   ]
  },
  {
   "cell_type": "code",
   "execution_count": 56,
   "id": "9927f706",
   "metadata": {},
   "outputs": [
    {
     "name": "stdout",
     "output_type": "stream",
     "text": [
      "{'_id': ObjectId('644100705f358a075462fb8a'), 'name': 'ManishParate', 'Task': 'Learn Django'}\n",
      "{'_id': ObjectId('644102265f358a075462fb8b'), 'name': 'mohan', 'task': 'Learn Django Basics'}\n",
      "{'_id': ObjectId('644102265f358a075462fb8c'), 'name': 'sohan', 'task': 'Learn Django Advance'}\n",
      "{'_id': ObjectId('644102265f358a075462fb8d'), 'name': 'Ram', 'task': 'Learn Python'}\n",
      "{'_id': ObjectId('6441027b5f358a075462fb8e'), 'name': 'mohan1', 'task': 'Learn Django Basics'}\n",
      "{'_id': ObjectId('6441027b5f358a075462fb8f'), 'name': 'sohan1', 'task': 'Learn Django Advance'}\n",
      "{'_id': ObjectId('6441027b5f358a075462fb90'), 'name': 'Ram1', 'task': 'Learn Python'}\n",
      "{'_id': 1, 'name': 'mohan1', 'task': 'Learn Django Basics'}\n",
      "{'_id': 2, 'name': 'sohan1', 'task': 'Learn Django Advance'}\n",
      "{'_id': 3, 'name': 'Ram1', 'task': 'Learn Python'}\n"
     ]
    }
   ],
   "source": [
    "for i in col.find():\n",
    "    print(i)"
   ]
  },
  {
   "cell_type": "code",
   "execution_count": 57,
   "id": "0408bc09",
   "metadata": {},
   "outputs": [],
   "source": [
    "query = {\n",
    "    \"name\":\"mohan1\"\n",
    "}"
   ]
  },
  {
   "cell_type": "code",
   "execution_count": 58,
   "id": "c137827a",
   "metadata": {},
   "outputs": [
    {
     "name": "stdout",
     "output_type": "stream",
     "text": [
      "{'_id': ObjectId('6441027b5f358a075462fb8e'), 'name': 'mohan1', 'task': 'Learn Django Basics'}\n",
      "{'_id': 1, 'name': 'mohan1', 'task': 'Learn Django Basics'}\n"
     ]
    }
   ],
   "source": [
    "x = col.find(query)\n",
    "\n",
    "for i in x:\n",
    "    print(i)"
   ]
  },
  {
   "cell_type": "code",
   "execution_count": 59,
   "id": "eb1a060e",
   "metadata": {},
   "outputs": [
    {
     "data": {
      "text/plain": [
       "<pymongo.results.DeleteResult at 0x1da17e8db20>"
      ]
     },
     "execution_count": 59,
     "metadata": {},
     "output_type": "execute_result"
    }
   ],
   "source": [
    "col.delete_one(query)"
   ]
  },
  {
   "cell_type": "code",
   "execution_count": 60,
   "id": "0c423d2d",
   "metadata": {},
   "outputs": [
    {
     "name": "stdout",
     "output_type": "stream",
     "text": [
      "{'_id': 1, 'name': 'mohan1', 'task': 'Learn Django Basics'}\n"
     ]
    }
   ],
   "source": [
    "x = col.find(query)\n",
    "\n",
    "for i in x:\n",
    "    print(i)"
   ]
  },
  {
   "cell_type": "code",
   "execution_count": 61,
   "id": "947438c2",
   "metadata": {},
   "outputs": [
    {
     "data": {
      "text/plain": [
       "<pymongo.results.DeleteResult at 0x1da182bfb80>"
      ]
     },
     "execution_count": 61,
     "metadata": {},
     "output_type": "execute_result"
    }
   ],
   "source": [
    "col.delete_one(query)"
   ]
  },
  {
   "cell_type": "code",
   "execution_count": 62,
   "id": "0770f246",
   "metadata": {},
   "outputs": [],
   "source": [
    "x = col.find(query)\n",
    "\n",
    "for i in x:\n",
    "    print(i)\n"
   ]
  },
  {
   "cell_type": "code",
   "execution_count": 63,
   "id": "7ae90073",
   "metadata": {},
   "outputs": [],
   "source": [
    "# Delete Many\n",
    "\n",
    "query = {\n",
    "    \"name\":{\n",
    "        \"$regex\":\"^R\"\n",
    "    }\n",
    "}"
   ]
  },
  {
   "cell_type": "code",
   "execution_count": 65,
   "id": "e0d0cfbf",
   "metadata": {},
   "outputs": [],
   "source": [
    "x = col.find(query)"
   ]
  },
  {
   "cell_type": "code",
   "execution_count": 66,
   "id": "4c4ffc72",
   "metadata": {},
   "outputs": [
    {
     "name": "stdout",
     "output_type": "stream",
     "text": [
      "{'_id': ObjectId('644102265f358a075462fb8d'), 'name': 'Ram', 'task': 'Learn Python'}\n",
      "{'_id': ObjectId('6441027b5f358a075462fb90'), 'name': 'Ram1', 'task': 'Learn Python'}\n",
      "{'_id': 3, 'name': 'Ram1', 'task': 'Learn Python'}\n"
     ]
    }
   ],
   "source": [
    "for i in x:\n",
    "    print(i)"
   ]
  },
  {
   "cell_type": "code",
   "execution_count": 67,
   "id": "295960ca",
   "metadata": {},
   "outputs": [],
   "source": [
    "deleted = col.delete_many(query)"
   ]
  },
  {
   "cell_type": "code",
   "execution_count": 68,
   "id": "084a74b9",
   "metadata": {},
   "outputs": [
    {
     "data": {
      "text/plain": [
       "<pymongo.results.DeleteResult at 0x1da17635c70>"
      ]
     },
     "execution_count": 68,
     "metadata": {},
     "output_type": "execute_result"
    }
   ],
   "source": [
    "deleted"
   ]
  },
  {
   "cell_type": "code",
   "execution_count": 71,
   "id": "6d5ce9b4",
   "metadata": {},
   "outputs": [
    {
     "data": {
      "text/plain": [
       "3"
      ]
     },
     "execution_count": 71,
     "metadata": {},
     "output_type": "execute_result"
    }
   ],
   "source": [
    "deleted.deleted_count"
   ]
  },
  {
   "cell_type": "code",
   "execution_count": 72,
   "id": "d89c15c0",
   "metadata": {},
   "outputs": [],
   "source": [
    "for i in x:\n",
    "    print(i)"
   ]
  },
  {
   "cell_type": "code",
   "execution_count": 74,
   "id": "28322893",
   "metadata": {},
   "outputs": [
    {
     "name": "stdout",
     "output_type": "stream",
     "text": [
      "{'_id': ObjectId('644100705f358a075462fb8a'), 'name': 'ManishParate', 'Task': 'Learn Django'}\n",
      "{'_id': ObjectId('644102265f358a075462fb8b'), 'name': 'mohan', 'task': 'Learn Django Basics'}\n",
      "{'_id': ObjectId('644102265f358a075462fb8c'), 'name': 'sohan', 'task': 'Learn Django Advance'}\n",
      "{'_id': ObjectId('6441027b5f358a075462fb8f'), 'name': 'sohan1', 'task': 'Learn Django Advance'}\n",
      "{'_id': 2, 'name': 'sohan1', 'task': 'Learn Django Advance'}\n"
     ]
    }
   ],
   "source": [
    "#delete All\n",
    "\n",
    "for i in col.find():\n",
    "    print(i)"
   ]
  },
  {
   "cell_type": "code",
   "execution_count": 75,
   "id": "7c7aff95",
   "metadata": {},
   "outputs": [],
   "source": [
    "deleted = col.delete_many({})"
   ]
  },
  {
   "cell_type": "code",
   "execution_count": 76,
   "id": "9b1d267c",
   "metadata": {},
   "outputs": [
    {
     "data": {
      "text/plain": [
       "5"
      ]
     },
     "execution_count": 76,
     "metadata": {},
     "output_type": "execute_result"
    }
   ],
   "source": [
    "deleted.deleted_count"
   ]
  },
  {
   "cell_type": "code",
   "execution_count": 77,
   "id": "64cb7ae7",
   "metadata": {},
   "outputs": [],
   "source": [
    "col.drop()"
   ]
  },
  {
   "cell_type": "code",
   "execution_count": 78,
   "id": "5fae586a",
   "metadata": {},
   "outputs": [
    {
     "data": {
      "text/plain": [
       "MongoClient(host=['localhost:27017'], document_class=dict, tz_aware=False, connect=True)"
      ]
     },
     "execution_count": 78,
     "metadata": {},
     "output_type": "execute_result"
    }
   ],
   "source": [
    "client"
   ]
  },
  {
   "cell_type": "code",
   "execution_count": 79,
   "id": "ed9ce647",
   "metadata": {},
   "outputs": [],
   "source": [
    "db = client[\"TestDatabase\"]"
   ]
  },
  {
   "cell_type": "code",
   "execution_count": 80,
   "id": "b8c5ee9f",
   "metadata": {},
   "outputs": [
    {
     "data": {
      "text/plain": [
       "Database(MongoClient(host=['localhost:27017'], document_class=dict, tz_aware=False, connect=True), 'TestDatabase')"
      ]
     },
     "execution_count": 80,
     "metadata": {},
     "output_type": "execute_result"
    }
   ],
   "source": [
    "db"
   ]
  },
  {
   "cell_type": "code",
   "execution_count": 81,
   "id": "08497e3f",
   "metadata": {},
   "outputs": [],
   "source": [
    "col = db[\"TestCollection\"]"
   ]
  },
  {
   "cell_type": "code",
   "execution_count": 82,
   "id": "dde921ad",
   "metadata": {},
   "outputs": [
    {
     "data": {
      "text/plain": [
       "Collection(Database(MongoClient(host=['localhost:27017'], document_class=dict, tz_aware=False, connect=True), 'TestDatabase'), 'TestCollection')"
      ]
     },
     "execution_count": 82,
     "metadata": {},
     "output_type": "execute_result"
    }
   ],
   "source": [
    "col"
   ]
  },
  {
   "cell_type": "code",
   "execution_count": 83,
   "id": "a6674ad7",
   "metadata": {},
   "outputs": [],
   "source": [
    "data = [\n",
    "    {\"name\":\"prateek\",\"task\":\"Learn Django Basics\"},\n",
    "    {\"name\":\"manish\",\"task\":\"learn Driving\"},\n",
    "    {\"name\":\"kartik\",\"task\":\"Go Fishing\"},\n",
    "    {\"name\":\"mukhrit\",\"task\":\"Go dance\"}\n",
    "]"
   ]
  },
  {
   "cell_type": "code",
   "execution_count": 84,
   "id": "35d2731a",
   "metadata": {},
   "outputs": [
    {
     "data": {
      "text/plain": [
       "[{'name': 'prateek', 'task': 'Learn Django Basics'},\n",
       " {'name': 'manish', 'task': 'learn Driving'},\n",
       " {'name': 'kartik', 'task': 'Go Fishing'},\n",
       " {'name': 'mukhrit', 'task': 'Go dance'}]"
      ]
     },
     "execution_count": 84,
     "metadata": {},
     "output_type": "execute_result"
    }
   ],
   "source": [
    "data"
   ]
  },
  {
   "cell_type": "code",
   "execution_count": 85,
   "id": "07c05111",
   "metadata": {},
   "outputs": [],
   "source": [
    "saved = col.insert_many(data)"
   ]
  },
  {
   "cell_type": "code",
   "execution_count": 86,
   "id": "28b241db",
   "metadata": {},
   "outputs": [
    {
     "data": {
      "text/plain": [
       "Collection(Database(MongoClient(host=['localhost:27017'], document_class=dict, tz_aware=False, connect=True), 'TestDatabase'), 'TestCollection')"
      ]
     },
     "execution_count": 86,
     "metadata": {},
     "output_type": "execute_result"
    }
   ],
   "source": [
    "col"
   ]
  },
  {
   "cell_type": "code",
   "execution_count": 87,
   "id": "4be44b78",
   "metadata": {},
   "outputs": [
    {
     "name": "stdout",
     "output_type": "stream",
     "text": [
      "{'_id': ObjectId('6441715f5f358a075462fb91'), 'name': 'prateek', 'task': 'Learn Django Basics'}\n",
      "{'_id': ObjectId('6441715f5f358a075462fb92'), 'name': 'manish', 'task': 'learn Driving'}\n",
      "{'_id': ObjectId('6441715f5f358a075462fb93'), 'name': 'kartik', 'task': 'Go Fishing'}\n",
      "{'_id': ObjectId('6441715f5f358a075462fb94'), 'name': 'mukhrit', 'task': 'Go dance'}\n"
     ]
    }
   ],
   "source": [
    "for i in col.find():\n",
    "    print(i)"
   ]
  },
  {
   "cell_type": "code",
   "execution_count": 90,
   "id": "4d6e20b7",
   "metadata": {},
   "outputs": [],
   "source": [
    "query = {\n",
    "    \"name\":\"manish\"\n",
    "}"
   ]
  },
  {
   "cell_type": "code",
   "execution_count": 93,
   "id": "32771757",
   "metadata": {},
   "outputs": [],
   "source": [
    "x = col.find(query)"
   ]
  },
  {
   "cell_type": "code",
   "execution_count": 94,
   "id": "cf49727e",
   "metadata": {},
   "outputs": [
    {
     "name": "stdout",
     "output_type": "stream",
     "text": [
      "{'_id': ObjectId('6441715f5f358a075462fb92'), 'name': 'manish', 'task': 'learn Driving'}\n"
     ]
    }
   ],
   "source": [
    "for i in x:\n",
    "    print(i)"
   ]
  },
  {
   "cell_type": "code",
   "execution_count": 97,
   "id": "e4ef3e84",
   "metadata": {},
   "outputs": [
    {
     "data": {
      "text/plain": [
       "<pymongo.results.UpdateResult at 0x1da188bcf40>"
      ]
     },
     "execution_count": 97,
     "metadata": {},
     "output_type": "execute_result"
    }
   ],
   "source": [
    "new_value = {\n",
    "    \"$set\":{\n",
    "        \"name\":\"manishji\"\n",
    "    }\n",
    "}\n",
    "\n",
    "col.update_one(query,new_value)"
   ]
  },
  {
   "cell_type": "code",
   "execution_count": 99,
   "id": "33310bbd",
   "metadata": {},
   "outputs": [
    {
     "name": "stdout",
     "output_type": "stream",
     "text": [
      "{'_id': ObjectId('6441715f5f358a075462fb92'), 'name': 'manishji', 'task': 'learn Driving'}\n"
     ]
    }
   ],
   "source": [
    "x = col.find({\n",
    "    \"name\":\"manishji\"\n",
    "})\n",
    "\n",
    "for i in x:\n",
    "    print(i)"
   ]
  },
  {
   "cell_type": "code",
   "execution_count": 100,
   "id": "8631c32d",
   "metadata": {},
   "outputs": [
    {
     "data": {
      "text/plain": [
       "<pymongo.results.UpdateResult at 0x1da18894130>"
      ]
     },
     "execution_count": 100,
     "metadata": {},
     "output_type": "execute_result"
    }
   ],
   "source": [
    "#update Many\n",
    "\n",
    "query = {\n",
    "    \"name\":\"kartik\"\n",
    "}\n",
    "\n",
    "new_value = {\n",
    "    \"$set\":{\n",
    "        \"name\":\"katrik\"\n",
    "    }\n",
    "}\n",
    "\n",
    "col.update_many(query,new_value)"
   ]
  },
  {
   "cell_type": "code",
   "execution_count": 101,
   "id": "911614e6",
   "metadata": {},
   "outputs": [
    {
     "name": "stdout",
     "output_type": "stream",
     "text": [
      "{'_id': ObjectId('6441715f5f358a075462fb91'), 'name': 'prateek', 'task': 'Learn Django Basics'}\n",
      "{'_id': ObjectId('6441715f5f358a075462fb92'), 'name': 'manishji', 'task': 'learn Driving'}\n",
      "{'_id': ObjectId('6441715f5f358a075462fb93'), 'name': 'katrik', 'task': 'Go Fishing'}\n",
      "{'_id': ObjectId('6441715f5f358a075462fb94'), 'name': 'mukhrit', 'task': 'Go dance'}\n"
     ]
    }
   ],
   "source": [
    "for i in col.find():\n",
    "    print(i)"
   ]
  },
  {
   "cell_type": "code",
   "execution_count": 102,
   "id": "3cc0bdc7",
   "metadata": {},
   "outputs": [
    {
     "name": "stdout",
     "output_type": "stream",
     "text": [
      "{'_id': ObjectId('6441715f5f358a075462fb91'), 'name': 'prateek', 'task': 'Learn Django Basics'}\n",
      "{'_id': ObjectId('6441715f5f358a075462fb92'), 'name': 'manishji', 'task': 'learn Driving'}\n"
     ]
    }
   ],
   "source": [
    "#Limit Our Result\n",
    "\n",
    "for i in col.find().limit(2):\n",
    "    print(i)\n"
   ]
  },
  {
   "cell_type": "code",
   "execution_count": 103,
   "id": "d782d4a4",
   "metadata": {},
   "outputs": [
    {
     "name": "stdout",
     "output_type": "stream",
     "text": [
      "{'_id': ObjectId('6441715f5f358a075462fb91'), 'name': 'prateek', 'task': 'Learn Django Basics'}\n",
      "{'_id': ObjectId('6441715f5f358a075462fb92'), 'name': 'manishji', 'task': 'learn Driving'}\n",
      "{'_id': ObjectId('6441715f5f358a075462fb93'), 'name': 'katrik', 'task': 'Go Fishing'}\n",
      "{'_id': ObjectId('6441715f5f358a075462fb94'), 'name': 'mukhrit', 'task': 'Go dance'}\n"
     ]
    }
   ],
   "source": [
    "for i in col.find():\n",
    "    print(i)"
   ]
  },
  {
   "cell_type": "code",
   "execution_count": null,
   "id": "a0e17ba2",
   "metadata": {},
   "outputs": [],
   "source": []
  }
 ],
 "metadata": {
  "kernelspec": {
   "display_name": "Python 3 (ipykernel)",
   "language": "python",
   "name": "python3"
  },
  "language_info": {
   "codemirror_mode": {
    "name": "ipython",
    "version": 3
   },
   "file_extension": ".py",
   "mimetype": "text/x-python",
   "name": "python",
   "nbconvert_exporter": "python",
   "pygments_lexer": "ipython3",
   "version": "3.9.13"
  }
 },
 "nbformat": 4,
 "nbformat_minor": 5
}
